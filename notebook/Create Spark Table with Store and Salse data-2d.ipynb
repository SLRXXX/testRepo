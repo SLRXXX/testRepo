{
  "metadata": {
    "saveOutput": true,
    "language_info": {
      "name": "python"
    }
  },
  "nbformat": 4,
  "nbformat_minor": 2,
  "cells": [
    {
      "cell_type": "code",
      "execution_count": null,
      "outputs": [],
      "metadata": {},
      "source": [
        "%%pyspark\n",
        "df = spark.read.load('abfss://chaxufswcus@chaxustoragewcus.dfs.core.windows.net/store_train.csv', format='csv'\n",
        ", header=True, inferSchema=True\n",
        ")\n",
        "df.write.mode(\"overwrite\").saveAsTable(\"default.store_sales\")"
      ],
      "attachments": {}
    }
  ]
}