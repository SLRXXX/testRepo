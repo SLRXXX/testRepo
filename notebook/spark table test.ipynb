{
  "metadata": {
    "language_info": {
      "name": "sql"
    }
  },
  "nbformat": 4,
  "nbformat_minor": 2,
  "cells": [
    {
      "cell_type": "code",
      "execution_count": 2,
      "outputs": [
        {
          "output_type": "error",
          "ename": "Error",
          "evalue": "java.lang.RuntimeException: Status code: -1 error code: null error message: InvalidAbfsRestOperationExceptionjava.io.IOException: 1.minutes;",
          "traceback": [
            "Error : java.lang.RuntimeException: Status code: -1 error code: null error message: InvalidAbfsRestOperationExceptionjava.io.IOException: 1.minutes;",
            "org.apache.spark.sql.hive.HiveExternalCatalog.withClient(HiveExternalCatalog.scala:106)",
            "org.apache.spark.sql.hive.HiveExternalCatalog.databaseExists(HiveExternalCatalog.scala:214)",
            "org.apache.spark.sql.internal.SharedState.externalCatalog$lzycompute(SharedState.scala:114)",
            "org.apache.spark.sql.internal.SharedState.externalCatalog(SharedState.scala:102)",
            "org.apache.spark.sql.internal.SharedState.globalTempViewManager$lzycompute(SharedState.scala:141)",
            "org.apache.spark.sql.internal.SharedState.globalTempViewManager(SharedState.scala:136)",
            "org.apache.spark.sql.hive.HiveSessionStateBuilder$$anonfun$2.apply(HiveSessionStateBuilder.scala:55)",
            "org.apache.spark.sql.hive.HiveSessionStateBuilder$$anonfun$2.apply(HiveSessionStateBuilder.scala:55)",
            "org.apache.spark.sql.catalyst.catalog.SessionCatalog.globalTempViewManager$lzycompute(SessionCatalog.scala:91)",
            "org.apache.spark.sql.catalyst.catalog.SessionCatalog.globalTempViewManager(SessionCatalog.scala:91)",
            "org.apache.spark.sql.catalyst.catalog.SessionCatalog.createDatabase(SessionCatalog.scala:204)",
            "org.apache.spark.sql.execution.command.CreateDatabaseCommand.run(ddl.scala:70)",
            "org.apache.spark.sql.execution.command.ExecutedCommandExec.sideEffectResult$lzycompute(commands.scala:70)",
            "org.apache.spark.sql.execution.command.ExecutedCommandExec.sideEffectResult(commands.scala:68)",
            "org.apache.spark.sql.execution.command.ExecutedCommandExec.executeCollect(commands.scala:79)",
            "org.apache.spark.sql.Dataset$$anonfun$6.apply(Dataset.scala:194)",
            "org.apache.spark.sql.Dataset$$anonfun$6.apply(Dataset.scala:194)",
            "org.apache.spark.sql.Dataset$$anonfun$52.apply(Dataset.scala:3370)",
            "org.apache.spark.sql.execution.SQLExecution$$anonfun$withNewExecutionId$1.apply(SQLExecution.scala:78)",
            "org.apache.spark.sql.execution.SQLExecution$.withSQLConfPropagated(SQLExecution.scala:125)",
            "org.apache.spark.sql.execution.SQLExecution$.withNewExecutionId(SQLExecution.scala:73)",
            "org.apache.spark.sql.Dataset.withAction(Dataset.scala:3369)",
            "org.apache.spark.sql.Dataset.<init>(Dataset.scala:194)",
            "org.apache.spark.sql.Dataset$.ofRows(Dataset.scala:79)",
            "org.apache.spark.sql.SparkSession.sql(SparkSession.scala:642)",
            "sun.reflect.NativeMethodAccessorImpl.invoke0(Native Method)",
            "sun.reflect.NativeMethodAccessorImpl.invoke(NativeMethodAccessorImpl.java:62)",
            "sun.reflect.DelegatingMethodAccessorImpl.invoke(DelegatingMethodAccessorImpl.java:43)",
            "java.lang.reflect.Method.invoke(Method.java:498)",
            "org.apache.livy.repl.SQLInterpreter.execute(SQLInterpreter.scala:89)",
            "org.apache.livy.repl.Session$$anonfun$7.apply(Session.scala:275)",
            "org.apache.livy.repl.Session$$anonfun$7.apply(Session.scala:273)",
            "scala.Option.map(Option.scala:146)",
            "org.apache.livy.repl.Session.org$apache$livy$repl$Session$$executeCode(Session.scala:273)",
            "org.apache.livy.repl.Session$$anonfun$execute$1.apply$mcV$sp(Session.scala:169)",
            "org.apache.livy.repl.Session$$anonfun$execute$1.apply(Session.scala:164)",
            "org.apache.livy.repl.Session$$anonfun$execute$1.apply(Session.scala:164)",
            "scala.concurrent.impl.Future$PromiseCompletingRunnable.liftedTree1$1(Future.scala:24)",
            "scala.concurrent.impl.Future$PromiseCompletingRunnable.run(Future.scala:24)",
            "java.util.concurrent.ThreadPoolExecutor.runWorker(ThreadPoolExecutor.java:1149)",
            "java.util.concurrent.ThreadPoolExecutor$Worker.run(ThreadPoolExecutor.java:624)",
            "java.lang.Thread.run(Thread.java:748)"
          ]
        }
      ],
      "metadata": {},
      "source": [
        "CREATE DATABASE IF NOT EXISTS yuweitest"
      ],
      "attachments": {}
    }
  ]
}